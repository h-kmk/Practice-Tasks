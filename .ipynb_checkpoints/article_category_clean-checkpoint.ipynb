{
 "cells": [
  {
   "cell_type": "code",
   "execution_count": 9,
   "id": "ee82cd04-7b13-4a0c-8de7-37ceed153838",
   "metadata": {},
   "outputs": [],
   "source": [
    "# Practice Task 1 - \n",
    "# Load data into pandas, clean it (remove nulls), plot a bar graph of article categories."
   ]
  },
  {
   "cell_type": "code",
   "execution_count": 1,
   "id": "a6fbfe9d-062d-44fa-a57b-74b254e21b66",
   "metadata": {},
   "outputs": [],
   "source": [
    "import pandas as pd\n",
    "import matplotlib.pyplot as plt"
   ]
  },
  {
   "cell_type": "code",
   "execution_count": 20,
   "id": "adf1f1c6-c891-41d1-9959-14df511a0bee",
   "metadata": {},
   "outputs": [
    {
     "data": {
      "text/html": [
       "<div>\n",
       "<style scoped>\n",
       "    .dataframe tbody tr th:only-of-type {\n",
       "        vertical-align: middle;\n",
       "    }\n",
       "\n",
       "    .dataframe tbody tr th {\n",
       "        vertical-align: top;\n",
       "    }\n",
       "\n",
       "    .dataframe thead th {\n",
       "        text-align: right;\n",
       "    }\n",
       "</style>\n",
       "<table border=\"1\" class=\"dataframe\">\n",
       "  <thead>\n",
       "    <tr style=\"text-align: right;\">\n",
       "      <th></th>\n",
       "      <th>title</th>\n",
       "      <th>category</th>\n",
       "      <th>author</th>\n",
       "      <th>published_date</th>\n",
       "    </tr>\n",
       "  </thead>\n",
       "  <tbody>\n",
       "    <tr>\n",
       "      <th>0</th>\n",
       "      <td>Article 1</td>\n",
       "      <td>Science</td>\n",
       "      <td>Sarah L.</td>\n",
       "      <td>2024-04-04</td>\n",
       "    </tr>\n",
       "    <tr>\n",
       "      <th>1</th>\n",
       "      <td>Article 2</td>\n",
       "      <td>Sports</td>\n",
       "      <td>Ian M.</td>\n",
       "      <td>2024-01-29</td>\n",
       "    </tr>\n",
       "    <tr>\n",
       "      <th>2</th>\n",
       "      <td>Article 3</td>\n",
       "      <td>Environment</td>\n",
       "      <td>David K.</td>\n",
       "      <td>2024-03-27</td>\n",
       "    </tr>\n",
       "    <tr>\n",
       "      <th>3</th>\n",
       "      <td>Article 4</td>\n",
       "      <td>NaN</td>\n",
       "      <td>David K.</td>\n",
       "      <td>2024-03-16</td>\n",
       "    </tr>\n",
       "    <tr>\n",
       "      <th>4</th>\n",
       "      <td>Article 5</td>\n",
       "      <td>Health</td>\n",
       "      <td>Sarah L.</td>\n",
       "      <td>2024-01-04</td>\n",
       "    </tr>\n",
       "  </tbody>\n",
       "</table>\n",
       "</div>"
      ],
      "text/plain": [
       "       title     category    author published_date\n",
       "0  Article 1      Science  Sarah L.     2024-04-04\n",
       "1  Article 2       Sports    Ian M.     2024-01-29\n",
       "2  Article 3  Environment  David K.     2024-03-27\n",
       "3  Article 4          NaN  David K.     2024-03-16\n",
       "4  Article 5       Health  Sarah L.     2024-01-04"
      ]
     },
     "execution_count": 20,
     "metadata": {},
     "output_type": "execute_result"
    }
   ],
   "source": [
    "# load the data file\n",
    "df = pd.read_csv(\"Internship Practice Tasks/articles_test.csv\")\n",
    "\n",
    "# show first few rows\n",
    "df.head()"
   ]
  },
  {
   "cell_type": "code",
   "execution_count": 12,
   "id": "21d858e3-3541-4afc-a41b-8e619891abda",
   "metadata": {},
   "outputs": [],
   "source": [
    "## Remove Nulls\n",
    "\n",
    "##drop any row that contains at least one null (`NaN`) value."
   ]
  },
  {
   "cell_type": "code",
   "execution_count": 21,
   "id": "73479eee-95d5-4ed1-9e2b-38782fa55714",
   "metadata": {},
   "outputs": [
    {
     "name": "stdout",
     "output_type": "stream",
     "text": [
      "After dropna: (23, 4)\n"
     ]
    },
    {
     "data": {
      "text/html": [
       "<div>\n",
       "<style scoped>\n",
       "    .dataframe tbody tr th:only-of-type {\n",
       "        vertical-align: middle;\n",
       "    }\n",
       "\n",
       "    .dataframe tbody tr th {\n",
       "        vertical-align: top;\n",
       "    }\n",
       "\n",
       "    .dataframe thead th {\n",
       "        text-align: right;\n",
       "    }\n",
       "</style>\n",
       "<table border=\"1\" class=\"dataframe\">\n",
       "  <thead>\n",
       "    <tr style=\"text-align: right;\">\n",
       "      <th></th>\n",
       "      <th>title</th>\n",
       "      <th>category</th>\n",
       "      <th>author</th>\n",
       "      <th>published_date</th>\n",
       "    </tr>\n",
       "  </thead>\n",
       "  <tbody>\n",
       "    <tr>\n",
       "      <th>0</th>\n",
       "      <td>Article 1</td>\n",
       "      <td>Science</td>\n",
       "      <td>Sarah L.</td>\n",
       "      <td>2024-04-04</td>\n",
       "    </tr>\n",
       "    <tr>\n",
       "      <th>1</th>\n",
       "      <td>Article 2</td>\n",
       "      <td>Sports</td>\n",
       "      <td>Ian M.</td>\n",
       "      <td>2024-01-29</td>\n",
       "    </tr>\n",
       "    <tr>\n",
       "      <th>2</th>\n",
       "      <td>Article 3</td>\n",
       "      <td>Environment</td>\n",
       "      <td>David K.</td>\n",
       "      <td>2024-03-27</td>\n",
       "    </tr>\n",
       "    <tr>\n",
       "      <th>4</th>\n",
       "      <td>Article 5</td>\n",
       "      <td>Health</td>\n",
       "      <td>Sarah L.</td>\n",
       "      <td>2024-01-04</td>\n",
       "    </tr>\n",
       "    <tr>\n",
       "      <th>5</th>\n",
       "      <td>Article 5</td>\n",
       "      <td>Health</td>\n",
       "      <td>Sarah L.</td>\n",
       "      <td>2024-01-04</td>\n",
       "    </tr>\n",
       "  </tbody>\n",
       "</table>\n",
       "</div>"
      ],
      "text/plain": [
       "       title     category    author published_date\n",
       "0  Article 1      Science  Sarah L.     2024-04-04\n",
       "1  Article 2       Sports    Ian M.     2024-01-29\n",
       "2  Article 3  Environment  David K.     2024-03-27\n",
       "4  Article 5       Health  Sarah L.     2024-01-04\n",
       "5  Article 5       Health  Sarah L.     2024-01-04"
      ]
     },
     "execution_count": 21,
     "metadata": {},
     "output_type": "execute_result"
    }
   ],
   "source": [
    "df_clean = df.dropna()\n",
    "print(\"After dropna:\", df_clean.shape)\n",
    "df_clean.head()"
   ]
  },
  {
   "cell_type": "code",
   "execution_count": 14,
   "id": "4f9ed56c-2e03-47e7-9a92-1785c1e9c78a",
   "metadata": {},
   "outputs": [],
   "source": [
    "## Bar Chart – Number of Articles per Category"
   ]
  },
  {
   "cell_type": "code",
   "execution_count": 22,
   "id": "bb06e547-8480-41c7-b8a8-57294ad670c4",
   "metadata": {},
   "outputs": [
    {
     "data": {
      "image/png": "[encoded data removed]",
      "text/plain": [
       "<Figure size 800x400 with 1 Axes>"
      ]
     },
     "metadata": {},
     "output_type": "display_data"
    }
   ],
   "source": [
    "category_counts = df_clean[\"category\"].value_counts()\n",
    "\n",
    "plt.figure(figsize=(8, 4))\n",
    "category_counts.plot(kind=\"bar\", color=\"skyblue\")\n",
    "plt.title(\"Articles per Category\")\n",
    "plt.xlabel(\"Category\")\n",
    "plt.ylabel(\"Count\")\n",
    "plt.tight_layout()\n",
    "\n",
    "# Save chart\n",
    "plt.savefig(\"article_categories.png\")\n",
    "plt.show()"
   ]
  },
  {
   "cell_type": "code",
   "execution_count": null,
   "id": "1afa82bc-ed92-4207-a076-be238a7b1a8f",
   "metadata": {},
   "outputs": [],
   "source": []
  }
 ],
 "metadata": {
  "kernelspec": {
   "display_name": "Python [conda env:base] *",
   "language": "python",
   "name": "conda-base-py"
  },
  "language_info": {
   "codemirror_mode": {
    "name": "ipython",
    "version": 3
   },
   "file_extension": ".py",
   "mimetype": "text/x-python",
   "name": "python",
   "nbconvert_exporter": "python",
   "pygments_lexer": "ipython3",
   "version": "3.12.7"
  }
 },
 "nbformat": 4,
 "nbformat_minor": 5
}
