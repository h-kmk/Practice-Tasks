{
 "cells": [
  {
   "cell_type": "markdown",
   "id": "6fe91857-c8f6-4060-9286-088af5af93ef",
   "metadata": {},
   "source": [
    "# Practice Task 3 – Data Cleaning\n",
    "\n",
    "Load a CSV dataset with missing values and duplicates. \n",
    "\n",
    "Perform: \n",
    "\n",
    "Removal of missing & duplicate rows \n",
    "\n",
    "Type conversion of columns \n",
    "\n",
    "Normalization of numeric columns"
   ]
  },
  {
   "cell_type": "code",
   "execution_count": 1,
   "id": "d1845199-95ae-4d98-8886-0556c96f6519",
   "metadata": {},
   "outputs": [
    {
     "name": "stdout",
     "output_type": "stream",
     "text": [
      "Raw shape: (30, 4)\n"
     ]
    },
    {
     "data": {
      "text/html": [
       "<div>\n",
       "<style scoped>\n",
       "    .dataframe tbody tr th:only-of-type {\n",
       "        vertical-align: middle;\n",
       "    }\n",
       "\n",
       "    .dataframe tbody tr th {\n",
       "        vertical-align: top;\n",
       "    }\n",
       "\n",
       "    .dataframe thead th {\n",
       "        text-align: right;\n",
       "    }\n",
       "</style>\n",
       "<table border=\"1\" class=\"dataframe\">\n",
       "  <thead>\n",
       "    <tr style=\"text-align: right;\">\n",
       "      <th></th>\n",
       "      <th>title</th>\n",
       "      <th>category</th>\n",
       "      <th>author</th>\n",
       "      <th>published_date</th>\n",
       "    </tr>\n",
       "  </thead>\n",
       "  <tbody>\n",
       "    <tr>\n",
       "      <th>0</th>\n",
       "      <td>Article 1</td>\n",
       "      <td>Science</td>\n",
       "      <td>Sarah L.</td>\n",
       "      <td>2024-04-04</td>\n",
       "    </tr>\n",
       "    <tr>\n",
       "      <th>1</th>\n",
       "      <td>Article 2</td>\n",
       "      <td>Sports</td>\n",
       "      <td>Ian M.</td>\n",
       "      <td>2024-01-29</td>\n",
       "    </tr>\n",
       "    <tr>\n",
       "      <th>2</th>\n",
       "      <td>Article 3</td>\n",
       "      <td>Environment</td>\n",
       "      <td>David K.</td>\n",
       "      <td>2024-03-27</td>\n",
       "    </tr>\n",
       "    <tr>\n",
       "      <th>3</th>\n",
       "      <td>Article 4</td>\n",
       "      <td>NaN</td>\n",
       "      <td>David K.</td>\n",
       "      <td>2024-03-16</td>\n",
       "    </tr>\n",
       "    <tr>\n",
       "      <th>4</th>\n",
       "      <td>Article 5</td>\n",
       "      <td>Health</td>\n",
       "      <td>Sarah L.</td>\n",
       "      <td>2024-01-04</td>\n",
       "    </tr>\n",
       "  </tbody>\n",
       "</table>\n",
       "</div>"
      ],
      "text/plain": [
       "       title     category    author published_date\n",
       "0  Article 1      Science  Sarah L.     2024-04-04\n",
       "1  Article 2       Sports    Ian M.     2024-01-29\n",
       "2  Article 3  Environment  David K.     2024-03-27\n",
       "3  Article 4          NaN  David K.     2024-03-16\n",
       "4  Article 5       Health  Sarah L.     2024-01-04"
      ]
     },
     "execution_count": 1,
     "metadata": {},
     "output_type": "execute_result"
    }
   ],
   "source": [
    "import pandas as pd\n",
    "from sklearn.preprocessing import MinMaxScaler\n",
    "\n",
    "df = pd.read_csv(\"articles_test.csv\")\n",
    "\n",
    "print(\"Raw shape:\", df.shape)\n",
    "df.head()"
   ]
  },
  {
   "cell_type": "markdown",
   "id": "66a4e43a-192c-48e0-ad34-b693507bbb0a",
   "metadata": {},
   "source": [
    "## show missing values & duplicates"
   ]
  },
  {
   "cell_type": "code",
   "execution_count": 2,
   "id": "5af8f1d5-0ab6-4f6f-b139-b2984438f8fd",
   "metadata": {},
   "outputs": [
    {
     "name": "stdout",
     "output_type": "stream",
     "text": [
      "Nulls per column:\n",
      "title             0\n",
      "category          6\n",
      "author            1\n",
      "published_date    0\n",
      "dtype: int64\n",
      "\n",
      "Duplicate rows: 1\n"
     ]
    }
   ],
   "source": [
    "print(\"Nulls per column:\")\n",
    "print(df.isnull().sum())\n",
    "\n",
    "print(\"\\nDuplicate rows:\", df.duplicated().sum())"
   ]
  },
  {
   "cell_type": "markdown",
   "id": "c5d12ea8-0cbf-4f1b-97f4-1b2aa31452dd",
   "metadata": {},
   "source": [
    "## remove missing values & duplicates"
   ]
  },
  {
   "cell_type": "code",
   "execution_count": 4,
   "id": "9e6815e1-4fc0-4f73-ac11-8a393508f5ea",
   "metadata": {},
   "outputs": [
    {
     "name": "stdout",
     "output_type": "stream",
     "text": [
      "After cleaning: (22, 4)\n"
     ]
    }
   ],
   "source": [
    "df_clean = df.dropna().drop_duplicates()\n",
    "print(\"After cleaning:\", df_clean.shape)"
   ]
  },
  {
   "cell_type": "markdown",
   "id": "f85c345f-8336-4c45-a921-b9acae2949fc",
   "metadata": {},
   "source": [
    "## Convert Data Types\n",
    "convert the **published_date** column to `datetime`."
   ]
  },
  {
   "cell_type": "code",
   "execution_count": 5,
   "id": "4975b668-fc8d-47c3-af82-b60a2d78b172",
   "metadata": {},
   "outputs": [
    {
     "data": {
      "text/plain": [
       "title                     object\n",
       "category                  object\n",
       "author                    object\n",
       "published_date    datetime64[ns]\n",
       "dtype: object"
      ]
     },
     "execution_count": 5,
     "metadata": {},
     "output_type": "execute_result"
    }
   ],
   "source": [
    "df_clean[\"published_date\"] = pd.to_datetime(df_clean[\"published_date\"])\n",
    "df_clean.dtypes.head()"
   ]
  },
  {
   "cell_type": "markdown",
   "id": "9785a16c-61bb-4ea9-b977-1485c2ce8f10",
   "metadata": {},
   "source": [
    "## Normalize Numeric Columns (0-1)\n",
    "create a demo numeric field: **title_length** = number of characters in the title, then scale it."
   ]
  },
  {
   "cell_type": "code",
   "execution_count": 6,
   "id": "6a42125d-be96-48f1-8831-b13240f337cf",
   "metadata": {},
   "outputs": [
    {
     "data": {
      "text/html": [
       "<div>\n",
       "<style scoped>\n",
       "    .dataframe tbody tr th:only-of-type {\n",
       "        vertical-align: middle;\n",
       "    }\n",
       "\n",
       "    .dataframe tbody tr th {\n",
       "        vertical-align: top;\n",
       "    }\n",
       "\n",
       "    .dataframe thead th {\n",
       "        text-align: right;\n",
       "    }\n",
       "</style>\n",
       "<table border=\"1\" class=\"dataframe\">\n",
       "  <thead>\n",
       "    <tr style=\"text-align: right;\">\n",
       "      <th></th>\n",
       "      <th>title</th>\n",
       "      <th>title_length</th>\n",
       "      <th>title_length_norm</th>\n",
       "    </tr>\n",
       "  </thead>\n",
       "  <tbody>\n",
       "    <tr>\n",
       "      <th>0</th>\n",
       "      <td>Article 1</td>\n",
       "      <td>9</td>\n",
       "      <td>0.0</td>\n",
       "    </tr>\n",
       "    <tr>\n",
       "      <th>1</th>\n",
       "      <td>Article 2</td>\n",
       "      <td>9</td>\n",
       "      <td>0.0</td>\n",
       "    </tr>\n",
       "    <tr>\n",
       "      <th>2</th>\n",
       "      <td>Article 3</td>\n",
       "      <td>9</td>\n",
       "      <td>0.0</td>\n",
       "    </tr>\n",
       "    <tr>\n",
       "      <th>4</th>\n",
       "      <td>Article 5</td>\n",
       "      <td>9</td>\n",
       "      <td>0.0</td>\n",
       "    </tr>\n",
       "    <tr>\n",
       "      <th>11</th>\n",
       "      <td>Article 12</td>\n",
       "      <td>10</td>\n",
       "      <td>1.0</td>\n",
       "    </tr>\n",
       "  </tbody>\n",
       "</table>\n",
       "</div>"
      ],
      "text/plain": [
       "         title  title_length  title_length_norm\n",
       "0    Article 1             9                0.0\n",
       "1    Article 2             9                0.0\n",
       "2    Article 3             9                0.0\n",
       "4    Article 5             9                0.0\n",
       "11  Article 12            10                1.0"
      ]
     },
     "execution_count": 6,
     "metadata": {},
     "output_type": "execute_result"
    }
   ],
   "source": [
    "# numeric field\n",
    "df_clean[\"title_length\"] = df_clean[\"title\"].str.len()\n",
    "\n",
    "scaler = MinMaxScaler()\n",
    "df_clean[\"title_length_norm\"] = scaler.fit_transform(\n",
    "    df_clean[[\"title_length\"]]\n",
    ")\n",
    "\n",
    "df_clean[[\"title\", \"title_length\", \"title_length_norm\"]].head()\n"
   ]
  },
  {
   "cell_type": "code",
   "execution_count": 7,
   "id": "90b811fe-a3d3-4d17-bf50-fc86004fe675",
   "metadata": {},
   "outputs": [
    {
     "name": "stdout",
     "output_type": "stream",
     "text": [
      "Saved cleaned file: articles_test_cleaned.csv\n"
     ]
    }
   ],
   "source": [
    "df_clean.to_csv(\"articles_test_cleaned.csv\", index=False)\n",
    "print(\"Saved cleaned file: articles_test_cleaned.csv\")"
   ]
  },
  {
   "cell_type": "code",
   "execution_count": null,
   "id": "155ddfe5-d6cc-47a6-ad62-efb33ddd8d59",
   "metadata": {},
   "outputs": [],
   "source": []
  }
 ],
 "metadata": {
  "kernelspec": {
   "display_name": "Python [conda env:base] *",
   "language": "python",
   "name": "conda-base-py"
  },
  "language_info": {
   "codemirror_mode": {
    "name": "ipython",
    "version": 3
   },
   "file_extension": ".py",
   "mimetype": "text/x-python",
   "name": "python",
   "nbconvert_exporter": "python",
   "pygments_lexer": "ipython3",
   "version": "3.12.3"
  }
 },
 "nbformat": 4,
 "nbformat_minor": 5
}
